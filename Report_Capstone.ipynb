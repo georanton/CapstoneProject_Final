{
 "cells": [
  {
   "cell_type": "markdown",
   "metadata": {},
   "source": [
    "## Capstone Project-The Battle of Neighborhoods (Week1)"
   ]
  },
  {
   "cell_type": "markdown",
   "metadata": {},
   "source": [
    "### Introduction/Business Problem"
   ]
  },
  {
   "cell_type": "markdown",
   "metadata": {},
   "source": [
    "Greece attracts a lot of tourists for hiking cause of the number and beauty of her nature.\n",
    "\n",
    "The aim of this project is to recommend city destinations for mountain lovers in Greece.\n",
    "\n",
    "The first task would be to segment the cities based on their geographic distance (on km) from every mountain and cluster them based on that and as second step I will make another segmentation based on the similarity of the cities.\n",
    "\n",
    "After that I will merge them to filter the cities that are both similar and close to same montains.\n",
    "\n",
    "Finaly I will find the closest 3 mountains , based on their distance in km for every city in the final merged cluster.\n",
    "\n",
    "I will make use of our data science tools to analyse data and focus on the relationship of cities and mountains in Greece."
   ]
  },
  {
   "cell_type": "markdown",
   "metadata": {},
   "source": [
    "### Data"
   ]
  },
  {
   "cell_type": "markdown",
   "metadata": {},
   "source": [
    "We will need two types of data."
   ]
  },
  {
   "cell_type": "markdown",
   "metadata": {},
   "source": [
    "* Wikipedia data for mountain informations like height , regional unit and coordinates.\n",
    "* Wikipedia data for cities informations like name , coordinates"
   ]
  },
  {
   "cell_type": "markdown",
   "metadata": {},
   "source": [
    "* Forsquare data about venues on every city in Greece."
   ]
  },
  {
   "cell_type": "markdown",
   "metadata": {},
   "source": [
    "I scrape the wikipedia data from https://en.wikipedia.org/wiki/List_of_mountains_in_Greece .\n",
    "\n",
    "I used **Scrapy** an open source and collaborative framework for extracting the data from websites. Here is my code."
   ]
  },
  {
   "cell_type": "markdown",
   "metadata": {},
   "source": [
    "![title](img/scrape.png)"
   ]
  },
  {
   "cell_type": "markdown",
   "metadata": {},
   "source": [
    "I end up with a dataset that contains the **peak** , the **height** , the **mountain range** , the **coordinates** and the **regional unit** the mountain belongs.\n",
    "\n",
    "I follow a similar approach for the **regions** / **cities** . I got the **name** and the **coordinates** of the cities which is usefull to use this dataset in collaboration with the previous."
   ]
  },
  {
   "cell_type": "markdown",
   "metadata": {},
   "source": [
    "Finaly I will use foursquare data about the near cities from each mountain to find venues in a given radius,  to separate them from each other. I will take the top 10 venues of every city. We will see at the end that cities having some specific similarities like islands cluster together."
   ]
  },
  {
   "cell_type": "markdown",
   "metadata": {},
   "source": [
    "## Methodology"
   ]
  },
  {
   "cell_type": "markdown",
   "metadata": {},
   "source": [
    "First I read our two csv files that we create in the precious step."
   ]
  },
  {
   "cell_type": "markdown",
   "metadata": {},
   "source": [
    "![ ](img/head.png)"
   ]
  },
  {
   "cell_type": "markdown",
   "metadata": {},
   "source": [
    "I plot my data to understand the geographical distribution.\n",
    "\n",
    "Here we have with red dots our cities and with blue the mountains."
   ]
  },
  {
   "cell_type": "markdown",
   "metadata": {},
   "source": [
    "![title](img/basic_plot.png)"
   ]
  },
  {
   "cell_type": "markdown",
   "metadata": {},
   "source": [
    "In this project as I mention previously we gonna cluster our data with kmeans algorithm based on two criteria. First based on the distance of every mountain with every city in kilometer using distance formulas and then based on city venues similarities that i took from forsquare API. "
   ]
  },
  {
   "cell_type": "markdown",
   "metadata": {},
   "source": [
    "For distance based clusering I calculate the distance between the mountains and cities passing the coordinates to Haversine formula https://en.wikipedia.org/wiki/Haversine_formula . I run a loop and parse mountain location one by one.\n",
    "\n",
    "I end up with this Dataframe."
   ]
  },
  {
   "cell_type": "markdown",
   "metadata": {},
   "source": [
    "![title](img/distance_based.png)\n"
   ]
  },
  {
   "cell_type": "markdown",
   "metadata": {},
   "source": [
    "I drop the the non mountain columns to perform the kmeans clustering.\n",
    "\n",
    "\n",
    "![title](img/without_names.png)"
   ]
  },
  {
   "cell_type": "markdown",
   "metadata": {},
   "source": [
    "I continue with Forsquare API to explore the cities in Greece . Because I explore whole cities I put as radius limit 15 kilometer .\n",
    "\n",
    "\n",
    "After the call of the API I have my new Dataframe with the top 100 venues of every city. \n",
    "![title](img/venues.png)\n",
    "I group them based on the city name , analyse every city by making every venue type as new column and take the mean to execute my second clustering.\n",
    "![title](img/onehot.png)"
   ]
  },
  {
   "cell_type": "markdown",
   "metadata": {},
   "source": [
    "After the execution of this step we have 10 sub-Dataframe , 5 from distance based and 5 from similarity based and I need to merge them to end up with cities that have both venue similarity and geographical similarity."
   ]
  },
  {
   "cell_type": "markdown",
   "metadata": {},
   "source": [
    "I create two list that contain the 10 Dataframes. This step help me with the Dataframes processing that occur with iterating ."
   ]
  },
  {
   "cell_type": "markdown",
   "metadata": {},
   "source": [
    "I end up with some Dataframes of this form.\n",
    "![title](img/ex1.png)\n",
    "\n",
    "Cities that are totally similar"
   ]
  },
  {
   "cell_type": "markdown",
   "metadata": {},
   "source": [
    "As last step remain to find the 3 mountains that are the closest to every city in the same Dataframe. I create a row that contains the mean from the distance of all mountains of all cities and take the 3 minimum values. I then pass it to list.\n",
    "![title](img/cols.png)"
   ]
  },
  {
   "cell_type": "markdown",
   "metadata": {},
   "source": [
    "With this list i filtered the Dataframes take the final ones that contain the 3 closest mountains on every team of cities."
   ]
  },
  {
   "cell_type": "markdown",
   "metadata": {},
   "source": [
    "Here a random as an example\n",
    "![title](img/m1.png)"
   ]
  },
  {
   "cell_type": "markdown",
   "metadata": {},
   "source": [
    "## Results"
   ]
  },
  {
   "cell_type": "markdown",
   "metadata": {},
   "source": [
    "### Plot of the distance based clustering data"
   ]
  },
  {
   "cell_type": "markdown",
   "metadata": {},
   "source": [
    "Here is the map of Greece and the clustered cities based on the distance they have from every mountain.\n",
    "With colored dots its the every clustered unit and with black dots the mountains just to have an overview.\n"
   ]
  },
  {
   "cell_type": "markdown",
   "metadata": {},
   "source": [
    "![title](img/plot_distance.png)"
   ]
  },
  {
   "cell_type": "markdown",
   "metadata": {},
   "source": [
    "Here an random clustered sub-Dataframe.\n",
    "\n",
    "![title](img/dis_clus_ex.png)\n"
   ]
  },
  {
   "cell_type": "markdown",
   "metadata": {},
   "source": [
    "### Plot of the venue similarity based clustering data"
   ]
  },
  {
   "cell_type": "markdown",
   "metadata": {},
   "source": [
    "Here is the map of Greece and the clustered cities based on venue similarity."
   ]
  },
  {
   "cell_type": "markdown",
   "metadata": {},
   "source": [
    "![title](img/venu_sim.png)"
   ]
  },
  {
   "cell_type": "markdown",
   "metadata": {},
   "source": [
    "Our clusters have the names of the similar cities that i use to merge in the final step.\n",
    "Here an example of one of them,\n",
    "\n",
    "![title](img/ven_clus1.png)\n",
    "\n"
   ]
  },
  {
   "cell_type": "markdown",
   "metadata": {},
   "source": [
    "### Final plot"
   ]
  },
  {
   "cell_type": "markdown",
   "metadata": {},
   "source": [
    "Finaly I reach my goal to have both geographical and also venue similar cities. You will see that the results is much less than the original because there were some cities that didnt meet the two criteria. "
   ]
  },
  {
   "cell_type": "markdown",
   "metadata": {},
   "source": [
    "With circle I represent the cities and with square the three mountains that is on every area. Every mountain and city that belongs in the final cluster have the same color."
   ]
  },
  {
   "cell_type": "markdown",
   "metadata": {},
   "source": [
    "![title](img/final.png)"
   ]
  },
  {
   "cell_type": "markdown",
   "metadata": {},
   "source": [
    "## Discussion"
   ]
  },
  {
   "cell_type": "markdown",
   "metadata": {},
   "source": [
    "We see that places that have some strong characteristics like islands is in the same category because they have some venues in common like beaches and ports.\n",
    "\n",
    "As further analysis we can use the heights of the mountains to group them in 3 categories like under 1000 meters , between 1000 and 1500 , over 1500 etc and recommend one of each kind based on the same criteria."
   ]
  },
  {
   "cell_type": "markdown",
   "metadata": {},
   "source": [
    "## Conclusion"
   ]
  },
  {
   "cell_type": "markdown",
   "metadata": {},
   "source": [
    "In this report I make an explanation of this project , to help understand easier both the code as its functionality.\n",
    "\n",
    "Its a project to have as goal to make recommendations to the mountain lovers tourists with respect to the cities themselfs.\n",
    "\n",
    "You can find the whole project here : https://dataplatform.cloud.ibm.com/analytics/notebooks/v2/0e808e6b-b1e3-41ac-b45d-c79086e6f604/view?access_token=3a759fdb35b1443148092247dd538970da2dad01311520972c9c05f46b496a7c\n",
    "\n",
    "### Thank you for your time\n"
   ]
  }
 ],
 "metadata": {
  "kernelspec": {
   "display_name": "Python 3",
   "language": "python",
   "name": "python3"
  },
  "language_info": {
   "codemirror_mode": {
    "name": "ipython",
    "version": 3
   },
   "file_extension": ".py",
   "mimetype": "text/x-python",
   "name": "python",
   "nbconvert_exporter": "python",
   "pygments_lexer": "ipython3",
   "version": "3.7.3"
  }
 },
 "nbformat": 4,
 "nbformat_minor": 4
}
